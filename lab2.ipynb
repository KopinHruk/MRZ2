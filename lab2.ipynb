{
 "cells": [
  {
   "cell_type": "code",
   "execution_count": 1,
   "metadata": {},
   "outputs": [],
   "source": [
    "import numpy as np\n",
    "import random\n",
    "import pandas as pd\n",
    "import matplotlib.pyplot as plt\n",
    "\n",
    "from tqdm import tqdm\n",
    "\n",
    "import torch\n",
    "import torch.nn as nn\n",
    "import torch.nn.functional as F\n",
    "import torch.optim as optim\n",
    "from torch.utils.data import Dataset, DataLoader\n",
    "\n",
    "from sklearn import preprocessing\n",
    "import math\n",
    "\n",
    "import warnings\n",
    "\n",
    "warnings.filterwarnings(\"ignore\")"
   ]
  },
  {
   "cell_type": "markdown",
   "metadata": {},
   "source": [
    "Some Trash\n",
    "==="
   ]
  },
  {
   "cell_type": "code",
   "execution_count": 2,
   "metadata": {},
   "outputs": [],
   "source": [
    "class dotdict(dict):\n",
    "    __getattr__ = dict.get\n",
    "    __setattr__ = dict.__setitem__\n",
    "    __delattr__ = dict.__delitem__\n",
    "    \n",
    "def int_r(array):\n",
    "    result = []\n",
    "    for num in array:\n",
    "        num = int(num + (0.5 if num > 0 else -0.5))\n",
    "        result.append(num)\n",
    "    return np.array(result)"
   ]
  },
  {
   "cell_type": "code",
   "execution_count": 3,
   "metadata": {},
   "outputs": [],
   "source": [
    "torch.manual_seed(0)\n",
    "np.random.seed(0)\n"
   ]
  },
  {
   "cell_type": "markdown",
   "metadata": {},
   "source": [
    "Settings\n",
    "==="
   ]
  },
  {
   "cell_type": "code",
   "execution_count": 4,
   "metadata": {},
   "outputs": [],
   "source": [
    "args_orig = {\n",
    "    \n",
    "    'seq_len':  5,\n",
    "    'hidden_size': 20,\n",
    "    'lr': 0.01,\n",
    "    'batch_size': 1,\n",
    "    'pred_len': 2,\n",
    "}\n",
    "\n",
    "args = dotdict(args_orig)"
   ]
  },
  {
   "cell_type": "markdown",
   "metadata": {},
   "source": [
    "Dataset part\n",
    "==="
   ]
  },
  {
   "cell_type": "markdown",
   "metadata": {},
   "source": [
    "Фиббоначи"
   ]
  },
  {
   "cell_type": "code",
   "execution_count": 5,
   "metadata": {},
   "outputs": [],
   "source": [
    "test_seq1 = [1, 1]\n",
    "fib1 = 1\n",
    "fib2 = 1\n",
    "\n",
    "s1_n = 30\n",
    "\n",
    "i = 0\n",
    "while i < s1_n - 2:\n",
    "    fib_sum = fib1 + fib2\n",
    "    fib1 = fib2\n",
    "    fib2 = fib_sum\n",
    "    i += 1\n",
    "    test_seq1.append(fib2)\n",
    "    \n",
    "test_seq1 = np.array(test_seq1)"
   ]
  },
  {
   "cell_type": "code",
   "execution_count": 6,
   "metadata": {},
   "outputs": [
    {
     "data": {
      "text/plain": [
       "array([     1,      1,      2,      3,      5,      8,     13,     21,\n",
       "           34,     55,     89,    144,    233,    377,    610,    987,\n",
       "         1597,   2584,   4181,   6765,  10946,  17711,  28657,  46368,\n",
       "        75025, 121393, 196418, 317811, 514229, 832040])"
      ]
     },
     "execution_count": 6,
     "metadata": {},
     "output_type": "execute_result"
    }
   ],
   "source": [
    "#test_seq1 = np.arange(1, 100)\n",
    "test_seq1"
   ]
  },
  {
   "cell_type": "markdown",
   "metadata": {},
   "source": [
    "Факториал"
   ]
  },
  {
   "cell_type": "code",
   "execution_count": 7,
   "metadata": {},
   "outputs": [
    {
     "data": {
      "text/plain": [
       "[1,\n",
       " 1,\n",
       " 2,\n",
       " 6,\n",
       " 24,\n",
       " 120,\n",
       " 720,\n",
       " 5040,\n",
       " 40320,\n",
       " 362880,\n",
       " 3628800,\n",
       " 39916800,\n",
       " 479001600,\n",
       " 6227020800,\n",
       " 87178291200,\n",
       " 1307674368000,\n",
       " 20922789888000,\n",
       " 355687428096000,\n",
       " 6402373705728000,\n",
       " 121645100408832000,\n",
       " 2432902008176640000,\n",
       " 51090942171709440000,\n",
       " 1124000727777607680000,\n",
       " 25852016738884976640000,\n",
       " 620448401733239439360000,\n",
       " 15511210043330985984000000,\n",
       " 403291461126605635584000000,\n",
       " 10888869450418352160768000000,\n",
       " 304888344611713860501504000000,\n",
       " 8841761993739701954543616000000]"
      ]
     },
     "execution_count": 7,
     "metadata": {},
     "output_type": "execute_result"
    }
   ],
   "source": [
    "test_seq2 = []\n",
    "\n",
    "s2_n = 30\n",
    "\n",
    "for i in range(s2_n):\n",
    "    test_seq2.append(math.factorial(i))\n",
    "    \n",
    "test_seq2"
   ]
  },
  {
   "cell_type": "markdown",
   "metadata": {},
   "source": [
    "Переодическая"
   ]
  },
  {
   "cell_type": "code",
   "execution_count": 8,
   "metadata": {},
   "outputs": [
    {
     "data": {
      "text/plain": [
       "[0.0,\n",
       " 0.8414709848078965,\n",
       " 0.9092974268256817,\n",
       " 0.1411200080598672,\n",
       " -0.7568024953079282,\n",
       " -0.9589242746631385,\n",
       " -0.27941549819892586,\n",
       " 0.6569865987187891,\n",
       " 0.9893582466233818,\n",
       " 0.4121184852417566,\n",
       " -0.5440211108893698,\n",
       " -0.9999902065507035,\n",
       " -0.5365729180004349,\n",
       " 0.4201670368266409,\n",
       " 0.9906073556948704,\n",
       " 0.6502878401571168,\n",
       " -0.2879033166650653,\n",
       " -0.9613974918795568,\n",
       " -0.750987246771676,\n",
       " 0.14987720966295234,\n",
       " 0.9129452507276277,\n",
       " 0.8366556385360561,\n",
       " -0.008851309290403876,\n",
       " -0.8462204041751706,\n",
       " -0.9055783620066239,\n",
       " -0.13235175009777303,\n",
       " 0.7625584504796027,\n",
       " 0.956375928404503,\n",
       " 0.27090578830786904,\n",
       " -0.6636338842129675]"
      ]
     },
     "execution_count": 8,
     "metadata": {},
     "output_type": "execute_result"
    }
   ],
   "source": [
    "test_seq3 = []\n",
    "\n",
    "s3_n = 30\n",
    "\n",
    "for i in range(s3_n):\n",
    "    test_seq3.append(math.sin(i))\n",
    "    \n",
    "test_seq3"
   ]
  },
  {
   "cell_type": "markdown",
   "metadata": {},
   "source": [
    "Степенная"
   ]
  },
  {
   "cell_type": "code",
   "execution_count": 9,
   "metadata": {},
   "outputs": [
    {
     "data": {
      "text/plain": [
       "[1,\n",
       " 2,\n",
       " 4,\n",
       " 8,\n",
       " 16,\n",
       " 32,\n",
       " 64,\n",
       " 128,\n",
       " 256,\n",
       " 512,\n",
       " 1024,\n",
       " 2048,\n",
       " 4096,\n",
       " 8192,\n",
       " 16384,\n",
       " 32768,\n",
       " 65536,\n",
       " 131072,\n",
       " 262144,\n",
       " 524288,\n",
       " 1048576,\n",
       " 2097152,\n",
       " 4194304,\n",
       " 8388608,\n",
       " 16777216,\n",
       " 33554432,\n",
       " 67108864,\n",
       " 134217728,\n",
       " 268435456,\n",
       " 536870912]"
      ]
     },
     "execution_count": 9,
     "metadata": {},
     "output_type": "execute_result"
    }
   ],
   "source": [
    "test_seq4 = []\n",
    "\n",
    "s4_n = 30\n",
    "\n",
    "for i in range(s4_n):\n",
    "    test_seq4.append(2 ** i)\n",
    "    \n",
    "test_seq4"
   ]
  },
  {
   "cell_type": "code",
   "execution_count": null,
   "metadata": {},
   "outputs": [],
   "source": []
  },
  {
   "cell_type": "code",
   "execution_count": 10,
   "metadata": {},
   "outputs": [],
   "source": [
    "class ClipDataset(Dataset):\n",
    "    def __init__(self, sequence=None, is_float=False, seq_len=args.seq_len, pred_len=args.pred_len):  \n",
    "        if type(sequence) is list:\n",
    "            sequence = np.array(sequence)\n",
    "        \n",
    "        assert sequence.ndim == 1\n",
    "        self.sequence = sequence\n",
    "        self.is_float = is_float\n",
    "        self.seq_len = seq_len\n",
    "        self.pred_len = pred_len\n",
    "        \n",
    "        self.transformer = preprocessing.QuantileTransformer(random_state=0)\n",
    "        self.normalize()\n",
    "        \n",
    "\n",
    "    def __len__(self):\n",
    "        return self.sequence.shape[0] - (self.seq_len + self.pred_len)\n",
    "    \n",
    "    \n",
    "    def normalize(self):\n",
    "        X_train_trans = self.transformer.fit_transform(self.sequence.reshape(-1, 1))\n",
    "        self.sequence = X_train_trans.flatten()\n",
    "        \n",
    "        \n",
    "        \n",
    "    def denormalize(self, values_array):\n",
    "        if type(values_array) is int or type(values_array) is float:\n",
    "            values_array = [values_array]\n",
    "            \n",
    "        if type(values_array) is list:\n",
    "            values_array = np.array(values_array)\n",
    "            \n",
    "        values_array = values_array.reshape(-1, 1)\n",
    "        \n",
    "        result = self.transformer.inverse_transform(values_array).flatten()\n",
    "        \n",
    "        \n",
    "        return int_r(result) if self.is_float==False else result\n",
    "        \n",
    "        \n",
    "    def __getitem__(self, i):\n",
    "        \n",
    "        clip_start = i\n",
    "        clip_end = i+self.seq_len \n",
    "        x = self.sequence[clip_start:clip_end]\n",
    "        y = self.sequence[clip_end:clip_end+self.pred_len]\n",
    "        \n",
    "        #clip_start = i+1\n",
    "       # clip_end = i+1+args.seq_len \n",
    "        #x1 = self.sequence[clip_start:clip_end]\n",
    "        #y1 = self.sequence[clip_end]\n",
    "        \n",
    "        \n",
    "        return x, y#, x1, y1"
   ]
  },
  {
   "cell_type": "code",
   "execution_count": 11,
   "metadata": {},
   "outputs": [
    {
     "data": {
      "text/plain": [
       "(array([0.75862069, 0.79310345, 0.82758621, 0.86206897, 0.89655172]),\n",
       " array([0.93103448]))"
      ]
     },
     "execution_count": 11,
     "metadata": {},
     "output_type": "execute_result"
    }
   ],
   "source": [
    "b = ClipDataset(test_seq1, pred_len=1)\n",
    "b.__getitem__(22)"
   ]
  },
  {
   "cell_type": "code",
   "execution_count": 12,
   "metadata": {},
   "outputs": [
    {
     "data": {
      "text/plain": [
       "array([3])"
      ]
     },
     "execution_count": 12,
     "metadata": {},
     "output_type": "execute_result"
    }
   ],
   "source": [
    "b.denormalize(0.10526316)"
   ]
  },
  {
   "cell_type": "code",
   "execution_count": 13,
   "metadata": {},
   "outputs": [
    {
     "data": {
      "text/plain": [
       "24"
      ]
     },
     "execution_count": 13,
     "metadata": {},
     "output_type": "execute_result"
    }
   ],
   "source": [
    "len(b)"
   ]
  },
  {
   "cell_type": "markdown",
   "metadata": {},
   "source": [
    "Model part\n",
    "===="
   ]
  },
  {
   "cell_type": "code",
   "execution_count": 14,
   "metadata": {},
   "outputs": [],
   "source": [
    "class Model(nn.Module):\n",
    "    def __init__(self, num_features, hidden_size, num_targets):\n",
    "        super(Model, self).__init__()\n",
    "       # print(hidden_size)\n",
    "        \n",
    "        self.dense1 = nn.Linear(num_features+hidden_size, hidden_size)        \n",
    "        \n",
    "        self.dense2 = nn.Linear(hidden_size, num_targets)\n",
    "        \n",
    "    \n",
    "    def forward(self, x, prev_hidden):\n",
    "        #print(x.shape)\n",
    "        x = torch.cat((x, prev_hidden), 1)\n",
    "       # print(x.shape)\n",
    "        \n",
    "        hidden = self.dense1(x)   \n",
    "        \n",
    "        ouput = self.dense2(hidden)       \n",
    "        \n",
    "        return ouput, hidden"
   ]
  },
  {
   "cell_type": "markdown",
   "metadata": {},
   "source": [
    "Train part\n",
    "==="
   ]
  },
  {
   "cell_type": "code",
   "execution_count": 15,
   "metadata": {},
   "outputs": [],
   "source": [
    "def MAPE(pre, gt):\n",
    "    pre = pre.detach()+0.001\n",
    "    gt = gt.detach()+0.001\n",
    "    result = abs((gt - pre) / gt).mean()\n",
    "    \n",
    "    return result.item()"
   ]
  },
  {
   "cell_type": "code",
   "execution_count": 40,
   "metadata": {},
   "outputs": [],
   "source": [
    "class Trainer():\n",
    "    def __init__(self, sequence=None, is_float=False, lr=args.lr, seq_len=args.seq_len, pred_len=args.pred_len, zero_mode=False):        \n",
    "        self.lr = lr\n",
    "        self.seq_len = seq_len\n",
    "        self.pred_len = pred_len\n",
    "        self.zero_mode = zero_mode\n",
    "        self.model = Model(self.seq_len, args.hidden_size, self.pred_len)\n",
    "        \n",
    "       # split = int(test_seq1.shape[0]*0.7)\n",
    "        self.dataset = ClipDataset(sequence, is_float=is_float, seq_len=self.seq_len, pred_len=self.pred_len)\n",
    "        self.train_loader = DataLoader(self.dataset, batch_size=args.batch_size, shuffle=False)\n",
    "        \n",
    "        self.optimizer = optim.SGD(self.model.parameters(), lr=self.lr )\n",
    "        \n",
    "        self.criterion = nn.MSELoss()\n",
    "        \n",
    "        self.train_loss = []\n",
    "        self.train_metric = []\n",
    "\n",
    "        \n",
    "    def training(self, epoch):\n",
    "        self.model.train()\n",
    "        #tbar = tqdm(self.train_loader)\n",
    "        num_img_tr = len(self.train_loader)\n",
    "        \n",
    "        epoch_loss = []\n",
    "        epoch_metric = []\n",
    "        \n",
    "        prev_hidden = torch.zeros(args.batch_size, args.hidden_size)\n",
    "        for i, sample in enumerate(self.train_loader):\n",
    "            x, y = sample[0].float(), sample[1].float()\n",
    "            \n",
    "            self.optimizer.zero_grad()\n",
    "            if self.zero_mode:\n",
    "                prev_hidden = torch.zeros(args.batch_size, args.hidden_size)\n",
    "            \n",
    "            output, prev_hidden = self.model(x, prev_hidden)\n",
    "            prev_hidden = prev_hidden.detach()\n",
    "            \n",
    "            loss = self.criterion(output, y)\n",
    "            loss.backward()\n",
    "            self.optimizer.step()\n",
    "            \n",
    "            epoch_loss.append(loss.item())\n",
    "            epoch_metric.append(MAPE(output, y))\n",
    "            #print(output, y, MAPE(output, y))\n",
    "            \n",
    "        \n",
    "        epoch_metric = np.array(epoch_metric).mean()\n",
    "        self.train_metric.append(epoch_metric)\n",
    "        \n",
    "        epoch_loss = np.array(epoch_loss).mean()\n",
    "        self.train_loss.append(epoch_loss)\n",
    "        \n",
    "        return epoch_loss, epoch_metric\n",
    "        \n",
    "        \n",
    "    def test(self):\n",
    "        prev_hidden = torch.zeros(args.batch_size, args.hidden_size)\n",
    "        for i, sample in enumerate(self.train_loader):\n",
    "            x, y = sample[0].float(), sample[1].float()\n",
    "            \n",
    "            with torch.no_grad():                \n",
    "                output, prev_hidden = self.model(x, prev_hidden)\n",
    "                prev_hidden = prev_hidden.detach()\n",
    "              \n",
    "            #print(x)\n",
    "            #print(output)    \n",
    "                \n",
    "            print(self.dataset.denormalize(x[0]))    \n",
    "            \n",
    "            print()\n",
    "            \n",
    "            print(self.dataset.denormalize(output.numpy()[0]))\n",
    "                \n",
    "            #if i == 5:\n",
    "            #    break"
   ]
  },
  {
   "cell_type": "markdown",
   "metadata": {},
   "source": [
    "RESLUTS\n",
    "===="
   ]
  },
  {
   "cell_type": "code",
   "execution_count": 17,
   "metadata": {},
   "outputs": [],
   "source": [
    "target_mape = 0.01\n",
    "max_epoch = 1000\n",
    "working_dpi = 100"
   ]
  },
  {
   "cell_type": "code",
   "execution_count": 18,
   "metadata": {},
   "outputs": [],
   "source": [
    "def experiment(*args, **kwargs):\n",
    "    trainer = Trainer(*args, **kwargs)\n",
    "    \n",
    "    loss = 9999999\n",
    "    mape = 1\n",
    "    \n",
    "    epoch = 0\n",
    "    while mape > target_mape:\n",
    "        loss, mape = trainer.training(epoch)\n",
    "        epoch += 1  \n",
    "        \n",
    "        if epoch == max_epoch:\n",
    "            break\n",
    "\n",
    "    \n",
    "    return trainer.train_loss, trainer.train_metric"
   ]
  },
  {
   "cell_type": "code",
   "execution_count": 19,
   "metadata": {},
   "outputs": [],
   "source": [
    "def plot_loss(data, name, log=True):\n",
    "    fig, ax = plt.subplots(1, 1, figsize=(8, 6), dpi=working_dpi)\n",
    "\n",
    "\n",
    "    ax.plot(data)\n",
    "    if log:\n",
    "        ax.set_yscale('log')\n",
    "\n",
    "    ax.set_title(name)\n",
    "    ax.set_ylabel('Ошибка')\n",
    "    ax.set_xlabel('Количество эпох')\n",
    "\n",
    "\n",
    "    plt.show()"
   ]
  },
  {
   "cell_type": "markdown",
   "metadata": {},
   "source": [
    "1) Фиббоначи\n",
    "=="
   ]
  },
  {
   "cell_type": "code",
   "execution_count": 20,
   "metadata": {},
   "outputs": [],
   "source": [
    "fib_loss, fib_metric = experiment(test_seq1)"
   ]
  },
  {
   "cell_type": "code",
   "execution_count": 21,
   "metadata": {},
   "outputs": [
    {
     "data": {
      "image/png": "[encoded data removed]",
      "text/plain": [
       "<Figure size 800x600 with 1 Axes>"
      ]
     },
     "metadata": {
      "needs_background": "light"
     },
     "output_type": "display_data"
    }
   ],
   "source": [
    "plot_loss(fib_loss, name='Фиббоначи')"
   ]
  },
  {
   "cell_type": "markdown",
   "metadata": {},
   "source": [
    "2) Факториал\n",
    "=="
   ]
  },
  {
   "cell_type": "code",
   "execution_count": 22,
   "metadata": {},
   "outputs": [
    {
     "data": {
      "image/png": "[encoded data removed]",
      "text/plain": [
       "<Figure size 800x600 with 1 Axes>"
      ]
     },
     "metadata": {
      "needs_background": "light"
     },
     "output_type": "display_data"
    }
   ],
   "source": [
    "fac_loss, fac_metric = experiment(test_seq2)\n",
    "plot_loss(fac_loss, name='Факториал')"
   ]
  },
  {
   "cell_type": "markdown",
   "metadata": {},
   "source": [
    "3) Период\n",
    "=="
   ]
  },
  {
   "cell_type": "code",
   "execution_count": 23,
   "metadata": {},
   "outputs": [
    {
     "ename": "KeyboardInterrupt",
     "evalue": "",
     "output_type": "error",
     "traceback": [
      "\u001b[0;31m---------------------------------------------------------------------------\u001b[0m",
      "\u001b[0;31mKeyboardInterrupt\u001b[0m                         Traceback (most recent call last)",
      "\u001b[0;32m<ipython-input-23-22e8fe58f07a>\u001b[0m in \u001b[0;36m<module>\u001b[0;34m\u001b[0m\n\u001b[0;32m----> 1\u001b[0;31m \u001b[0mperiod_loss\u001b[0m\u001b[0;34m,\u001b[0m \u001b[0mperiod_metric\u001b[0m \u001b[0;34m=\u001b[0m \u001b[0mexperiment\u001b[0m\u001b[0;34m(\u001b[0m\u001b[0mtest_seq3\u001b[0m\u001b[0;34m,\u001b[0m \u001b[0mis_float\u001b[0m\u001b[0;34m=\u001b[0m\u001b[0;32mTrue\u001b[0m\u001b[0;34m)\u001b[0m\u001b[0;34m\u001b[0m\u001b[0;34m\u001b[0m\u001b[0m\n\u001b[0m\u001b[1;32m      2\u001b[0m \u001b[0mplot_loss\u001b[0m\u001b[0;34m(\u001b[0m\u001b[0mperiod_loss\u001b[0m\u001b[0;34m,\u001b[0m \u001b[0mname\u001b[0m\u001b[0;34m=\u001b[0m\u001b[0;34m'Периодическая функция'\u001b[0m\u001b[0;34m)\u001b[0m\u001b[0;34m\u001b[0m\u001b[0;34m\u001b[0m\u001b[0m\n",
      "\u001b[0;32m<ipython-input-18-50cf69c43276>\u001b[0m in \u001b[0;36mexperiment\u001b[0;34m(*args, **kwargs)\u001b[0m\n\u001b[1;32m      7\u001b[0m     \u001b[0mepoch\u001b[0m \u001b[0;34m=\u001b[0m \u001b[0;36m0\u001b[0m\u001b[0;34m\u001b[0m\u001b[0;34m\u001b[0m\u001b[0m\n\u001b[1;32m      8\u001b[0m     \u001b[0;32mwhile\u001b[0m \u001b[0mmape\u001b[0m \u001b[0;34m>\u001b[0m \u001b[0mtarget_mape\u001b[0m\u001b[0;34m:\u001b[0m\u001b[0;34m\u001b[0m\u001b[0;34m\u001b[0m\u001b[0m\n\u001b[0;32m----> 9\u001b[0;31m         \u001b[0mloss\u001b[0m\u001b[0;34m,\u001b[0m \u001b[0mmape\u001b[0m \u001b[0;34m=\u001b[0m \u001b[0mtrainer\u001b[0m\u001b[0;34m.\u001b[0m\u001b[0mtraining\u001b[0m\u001b[0;34m(\u001b[0m\u001b[0mepoch\u001b[0m\u001b[0;34m)\u001b[0m\u001b[0;34m\u001b[0m\u001b[0;34m\u001b[0m\u001b[0m\n\u001b[0m\u001b[1;32m     10\u001b[0m         \u001b[0mepoch\u001b[0m \u001b[0;34m+=\u001b[0m \u001b[0;36m1\u001b[0m\u001b[0;34m\u001b[0m\u001b[0;34m\u001b[0m\u001b[0m\n\u001b[1;32m     11\u001b[0m \u001b[0;34m\u001b[0m\u001b[0m\n",
      "\u001b[0;32m<ipython-input-16-41e09ef73b0b>\u001b[0m in \u001b[0;36mtraining\u001b[0;34m(self, epoch)\u001b[0m\n\u001b[1;32m     40\u001b[0m \u001b[0;34m\u001b[0m\u001b[0m\n\u001b[1;32m     41\u001b[0m             \u001b[0mepoch_loss\u001b[0m\u001b[0;34m.\u001b[0m\u001b[0mappend\u001b[0m\u001b[0;34m(\u001b[0m\u001b[0mloss\u001b[0m\u001b[0;34m.\u001b[0m\u001b[0mitem\u001b[0m\u001b[0;34m(\u001b[0m\u001b[0;34m)\u001b[0m\u001b[0;34m)\u001b[0m\u001b[0;34m\u001b[0m\u001b[0;34m\u001b[0m\u001b[0m\n\u001b[0;32m---> 42\u001b[0;31m             \u001b[0mepoch_metric\u001b[0m\u001b[0;34m.\u001b[0m\u001b[0mappend\u001b[0m\u001b[0;34m(\u001b[0m\u001b[0mMAPE\u001b[0m\u001b[0;34m(\u001b[0m\u001b[0moutput\u001b[0m\u001b[0;34m,\u001b[0m \u001b[0my\u001b[0m\u001b[0;34m)\u001b[0m\u001b[0;34m)\u001b[0m\u001b[0;34m\u001b[0m\u001b[0;34m\u001b[0m\u001b[0m\n\u001b[0m\u001b[1;32m     43\u001b[0m             \u001b[0;31m#print(output, y, MAPE(output, y))\u001b[0m\u001b[0;34m\u001b[0m\u001b[0;34m\u001b[0m\u001b[0;34m\u001b[0m\u001b[0m\n\u001b[1;32m     44\u001b[0m \u001b[0;34m\u001b[0m\u001b[0m\n",
      "\u001b[0;32m<ipython-input-15-df04a5949e76>\u001b[0m in \u001b[0;36mMAPE\u001b[0;34m(pre, gt)\u001b[0m\n\u001b[1;32m      1\u001b[0m \u001b[0;32mdef\u001b[0m \u001b[0mMAPE\u001b[0m\u001b[0;34m(\u001b[0m\u001b[0mpre\u001b[0m\u001b[0;34m,\u001b[0m \u001b[0mgt\u001b[0m\u001b[0;34m)\u001b[0m\u001b[0;34m:\u001b[0m\u001b[0;34m\u001b[0m\u001b[0;34m\u001b[0m\u001b[0m\n\u001b[0;32m----> 2\u001b[0;31m     \u001b[0mpre\u001b[0m \u001b[0;34m=\u001b[0m \u001b[0mpre\u001b[0m\u001b[0;34m.\u001b[0m\u001b[0mdetach\u001b[0m\u001b[0;34m(\u001b[0m\u001b[0;34m)\u001b[0m\u001b[0;34m+\u001b[0m\u001b[0;36m0.001\u001b[0m\u001b[0;34m\u001b[0m\u001b[0;34m\u001b[0m\u001b[0m\n\u001b[0m\u001b[1;32m      3\u001b[0m     \u001b[0mgt\u001b[0m \u001b[0;34m=\u001b[0m \u001b[0mgt\u001b[0m\u001b[0;34m.\u001b[0m\u001b[0mdetach\u001b[0m\u001b[0;34m(\u001b[0m\u001b[0;34m)\u001b[0m\u001b[0;34m+\u001b[0m\u001b[0;36m0.001\u001b[0m\u001b[0;34m\u001b[0m\u001b[0;34m\u001b[0m\u001b[0m\n\u001b[1;32m      4\u001b[0m     \u001b[0mresult\u001b[0m \u001b[0;34m=\u001b[0m \u001b[0mabs\u001b[0m\u001b[0;34m(\u001b[0m\u001b[0;34m(\u001b[0m\u001b[0mgt\u001b[0m \u001b[0;34m-\u001b[0m \u001b[0mpre\u001b[0m\u001b[0;34m)\u001b[0m \u001b[0;34m/\u001b[0m \u001b[0mgt\u001b[0m\u001b[0;34m)\u001b[0m\u001b[0;34m.\u001b[0m\u001b[0mmean\u001b[0m\u001b[0;34m(\u001b[0m\u001b[0;34m)\u001b[0m\u001b[0;34m\u001b[0m\u001b[0;34m\u001b[0m\u001b[0m\n\u001b[1;32m      5\u001b[0m \u001b[0;34m\u001b[0m\u001b[0m\n",
      "\u001b[0;31mKeyboardInterrupt\u001b[0m: "
     ]
    }
   ],
   "source": [
    "period_loss, period_metric = experiment(test_seq3, is_float=True)\n",
    "plot_loss(period_loss, name='Периодическая функция')"
   ]
  },
  {
   "cell_type": "markdown",
   "metadata": {},
   "source": [
    "4) Степенная\n",
    "=="
   ]
  },
  {
   "cell_type": "code",
   "execution_count": null,
   "metadata": {},
   "outputs": [],
   "source": [
    "pow_loss, pow_metric = experiment(test_seq4)\n",
    "plot_loss(pow_loss, name='Степенная функция')"
   ]
  },
  {
   "cell_type": "markdown",
   "metadata": {},
   "source": [
    "5) Все графики ошибок\n",
    "==="
   ]
  },
  {
   "cell_type": "code",
   "execution_count": null,
   "metadata": {},
   "outputs": [],
   "source": [
    "fig, ax = plt.subplots(1, 1, figsize=(8, 6), dpi=working_dpi)\n",
    "\n",
    "ax.plot(fib_loss, label='Фиббоначи')\n",
    "ax.plot(fac_loss, label='Факториал')\n",
    "ax.plot(period_loss, label='Периодическая')\n",
    "ax.plot(pow_loss, label='Степенная')\n",
    "\n",
    "ax.set_yscale('log')\n",
    "\n",
    "ax.set_title('Все ошибки на одном графике')\n",
    "ax.set_ylabel('Loss')\n",
    "ax.set_xlabel('Количество эпох')\n",
    "\n",
    "ax.axvline(max_epoch, color='black', ls='--')\n",
    "\n",
    "ax.legend()\n",
    "plt.show()"
   ]
  },
  {
   "cell_type": "markdown",
   "metadata": {},
   "source": [
    "6) Все графики MAPE\n",
    "==="
   ]
  },
  {
   "cell_type": "code",
   "execution_count": null,
   "metadata": {},
   "outputs": [],
   "source": [
    "fig, ax = plt.subplots(1, 1, figsize=(8, 6), dpi=150)\n",
    "\n",
    "ax.plot(fib_metric, label='Фиббоначи')\n",
    "ax.plot(fac_metric, label='Факториал')\n",
    "ax.plot(period_metric, label='Периодическая')\n",
    "ax.plot(pow_metric, label='Степенная')\n",
    "\n",
    "\n",
    "ax.set_title('MAPE для всех последовательностей')\n",
    "ax.set_ylabel('Mean absolute percentage error')\n",
    "ax.set_xlabel('Количество эпох')\n",
    "\n",
    "ax.axvline(max_epoch, color='black', ls='--')\n",
    "\n",
    "ax.legend()\n",
    "plt.show()"
   ]
  },
  {
   "cell_type": "markdown",
   "metadata": {},
   "source": [
    "7) Lrs Check Фиббоначи\n",
    "=="
   ]
  },
  {
   "cell_type": "code",
   "execution_count": null,
   "metadata": {},
   "outputs": [],
   "source": [
    "lrs = [0.1, 0.001, 0.00001]\n",
    "num_epochs = []\n",
    "\n",
    "for lr in tqdm(lrs):\n",
    "    \n",
    "    trainer = Trainer(test_seq1, lr=lr)\n",
    "    loss = 9999999\n",
    "    mape = 1\n",
    "    epoch = 0\n",
    "    \n",
    "    while mape > target_mape:\n",
    "        loss, mape = trainer.training(epoch)\n",
    "        epoch += 1 \n",
    "        \n",
    "        if epoch == max_epoch:\n",
    "            break\n",
    "            \n",
    "    num_epochs.append(epoch)"
   ]
  },
  {
   "cell_type": "code",
   "execution_count": null,
   "metadata": {},
   "outputs": [],
   "source": [
    "fig, ax = plt.subplots(1, 1, figsize=(8, 6), dpi=working_dpi)\n",
    "\n",
    "\n",
    "ax.plot(lrs, num_epochs, label='Фиббоначи')\n",
    "\n",
    "ax.set_xscale('log')\n",
    "\n",
    "ax.set_title('Фиббоначи')\n",
    "ax.set_xlabel('Коэффициент обучения')\n",
    "ax.set_ylabel('Количество эпох')\n",
    "\n",
    "\n",
    "\n",
    "plt.show()"
   ]
  },
  {
   "cell_type": "markdown",
   "metadata": {},
   "source": [
    "8) Seq len check\n",
    "==="
   ]
  },
  {
   "cell_type": "code",
   "execution_count": null,
   "metadata": {},
   "outputs": [],
   "source": [
    "seq_lens = [1, 2, 3, 5, 6]\n",
    "num_epochs = []\n",
    "\n",
    "for seq_len in tqdm(seq_lens):\n",
    "    \n",
    "    trainer = Trainer(test_seq1, seq_len=seq_len)\n",
    "    loss = 9999999\n",
    "    mape = 1\n",
    "    epoch = 0\n",
    "    \n",
    "    while mape > target_mape:\n",
    "        loss, mape = trainer.training(epoch)\n",
    "        epoch += 1 \n",
    "        \n",
    "        if epoch == 3000:\n",
    "            break\n",
    "            \n",
    "    num_epochs.append(epoch)"
   ]
  },
  {
   "cell_type": "code",
   "execution_count": null,
   "metadata": {},
   "outputs": [],
   "source": [
    "fig, ax = plt.subplots(1, 1, figsize=(8, 6), dpi=working_dpi)\n",
    "\n",
    "\n",
    "ax.plot(seq_lens, num_epochs, label='Степенная')\n",
    "\n",
    "#ax.set_yscale('log')\n",
    "\n",
    "ax.set_title('Фиббоначи')\n",
    "ax.set_xlabel('Длина последовательности')\n",
    "ax.set_ylabel('Количество эпох')\n",
    "\n",
    "\n",
    "\n",
    "plt.show()"
   ]
  },
  {
   "cell_type": "markdown",
   "metadata": {},
   "source": [
    "9) Pred len check\n",
    "==="
   ]
  },
  {
   "cell_type": "code",
   "execution_count": null,
   "metadata": {},
   "outputs": [],
   "source": [
    "pred_lens = [1, 2, 3]\n",
    "num_epochs = []\n",
    "\n",
    "for pred_len in tqdm(pred_lens):\n",
    "    args.pred_len = pred_len\n",
    "    \n",
    "    trainer = Trainer(test_seq2, pred_len=pred_len)\n",
    "    loss = 9999999\n",
    "    mape = 1\n",
    "    epoch = 0\n",
    "    \n",
    "    while mape > 0.009:\n",
    "        loss, mape = trainer.training(epoch)\n",
    "        epoch += 1 \n",
    "        \n",
    "        if epoch == 3000:\n",
    "            break\n",
    "            \n",
    "    num_epochs.append(epoch)"
   ]
  },
  {
   "cell_type": "code",
   "execution_count": null,
   "metadata": {},
   "outputs": [],
   "source": [
    "from matplotlib.ticker import MaxNLocator\n",
    "fig, ax = plt.subplots(1, 1, figsize=(8, 6), dpi=working_dpi)\n",
    "\n",
    "\n",
    "ax.plot(pred_lens, num_epochs)\n",
    "\n",
    "#ax.set_yscale('log')\n",
    "\n",
    "ax.set_title('Факториал')\n",
    "ax.set_xlabel('Длина предсказываемой последовательности')\n",
    "ax.set_ylabel('Количество эпох')\n",
    "\n",
    "ax.xaxis.set_major_locator(MaxNLocator(integer=True))\n",
    "\n",
    "plt.show()"
   ]
  },
  {
   "cell_type": "markdown",
   "metadata": {},
   "source": [
    "10) epochs vs hidden size\n",
    "==="
   ]
  },
  {
   "cell_type": "code",
   "execution_count": 34,
   "metadata": {},
   "outputs": [
    {
     "name": "stderr",
     "output_type": "stream",
     "text": [
      "100%|██████████| 5/5 [03:15<00:00, 39.19s/it]\n"
     ]
    }
   ],
   "source": [
    "sizes = [2, 10, 20, 30]\n",
    "args = dotdict(args_orig)\n",
    "args.pred_len = 3\n",
    "mean_epochs = []\n",
    "\n",
    "for i in tqdm(range(5)):\n",
    "    num_epochs = []\n",
    "    for size in sizes:\n",
    "        args.hidden_size = size\n",
    "\n",
    "        trainer = Trainer(test_seq1, pred_len=args.pred_len)\n",
    "        loss = 9999999\n",
    "        mape = 1\n",
    "        epoch = 0\n",
    "\n",
    "        while mape > 0.01:\n",
    "            loss, mape = trainer.training(epoch)\n",
    "            epoch += 1 \n",
    "\n",
    "            if epoch == 2000:\n",
    "                break\n",
    "\n",
    "        num_epochs.append(epoch)\n",
    "    mean_epochs.append(num_epochs)"
   ]
  },
  {
   "cell_type": "code",
   "execution_count": 35,
   "metadata": {},
   "outputs": [
    {
     "data": {
      "text/plain": [
       "array([ 933.2, 1169.4,  848.8,  933.2])"
      ]
     },
     "execution_count": 35,
     "metadata": {},
     "output_type": "execute_result"
    }
   ],
   "source": [
    "num_epochs = np.array(mean_epochs).mean(0)\n",
    "num_epochs"
   ]
  },
  {
   "cell_type": "code",
   "execution_count": 36,
   "metadata": {},
   "outputs": [
    {
     "data": {
      "image/png": "[encoded data removed]",
      "text/plain": [
       "<Figure size 1440x1080 with 1 Axes>"
      ]
     },
     "metadata": {
      "needs_background": "light"
     },
     "output_type": "display_data"
    }
   ],
   "source": [
    "from matplotlib.ticker import MaxNLocator\n",
    "fig, ax = plt.subplots(1, 1, figsize=(8, 6), dpi=180)\n",
    "\n",
    "\n",
    "ax.plot(sizes, num_epochs)\n",
    "\n",
    "#ax.set_yscale('log')\n",
    "\n",
    "ax.set_title('Фиббоначи')\n",
    "ax.set_xlabel('Размер второго слоя')\n",
    "ax.set_ylabel('Количество эпох')\n",
    "\n",
    "ax.xaxis.set_major_locator(MaxNLocator(integer=True))\n",
    "\n",
    "plt.show()"
   ]
  },
  {
   "cell_type": "markdown",
   "metadata": {},
   "source": [
    "11) zero mode\n",
    "==="
   ]
  },
  {
   "cell_type": "code",
   "execution_count": 45,
   "metadata": {},
   "outputs": [
    {
     "name": "stderr",
     "output_type": "stream",
     "text": [
      "100%|██████████| 5/5 [00:47<00:00,  9.51s/it]\n"
     ]
    }
   ],
   "source": [
    "modes = [True, False]\n",
    "args = dotdict(args_orig)\n",
    "args.pred_len = 3\n",
    "mean_epochs = []\n",
    "\n",
    "for i in tqdm(range(5)):\n",
    "    num_epochs = []\n",
    "    for mode in modes:\n",
    "\n",
    "        trainer = Trainer(test_seq1, zero_mode=mode)\n",
    "        loss = 9999999\n",
    "        mape = 1\n",
    "        epoch = 0\n",
    "\n",
    "        while mape > 0.01:\n",
    "            loss, mape = trainer.training(epoch)\n",
    "            epoch += 1 \n",
    "\n",
    "            if epoch == 2000:\n",
    "                break\n",
    "\n",
    "        num_epochs.append(epoch)\n",
    "    mean_epochs.append(num_epochs)"
   ]
  },
  {
   "cell_type": "code",
   "execution_count": 47,
   "metadata": {},
   "outputs": [
    {
     "data": {
      "text/plain": [
       "array([131.4, 796.8])"
      ]
     },
     "execution_count": 47,
     "metadata": {},
     "output_type": "execute_result"
    }
   ],
   "source": [
    "num_epochs = np.array(mean_epochs).mean(0)\n",
    "num_epochs"
   ]
  },
  {
   "cell_type": "code",
   "execution_count": 50,
   "metadata": {},
   "outputs": [
    {
     "data": {
      "image/png": "[encoded data removed]",
      "text/plain": [
       "<Figure size 1440x1080 with 1 Axes>"
      ]
     },
     "metadata": {
      "needs_background": "light"
     },
     "output_type": "display_data"
    }
   ],
   "source": [
    "from matplotlib.ticker import MaxNLocator\n",
    "fig, ax = plt.subplots(1, 1, figsize=(8, 6), dpi=180)\n",
    "\n",
    "\n",
    "ax.bar(['Отключено', 'Включено'], num_epochs)\n",
    "\n",
    "#ax.set_yscale('log')\n",
    "\n",
    "ax.set_title('Степенная функция')\n",
    "ax.set_xlabel('Зануление')\n",
    "ax.set_ylabel('Количество эпох')\n",
    "\n",
    "ax.xaxis.set_major_locator(MaxNLocator(integer=True))\n",
    "\n",
    "plt.show()"
   ]
  },
  {
   "cell_type": "code",
   "execution_count": null,
   "metadata": {},
   "outputs": [],
   "source": []
  }
 ],
 "metadata": {
  "kernelspec": {
   "display_name": "Python 3",
   "language": "python",
   "name": "python3"
  },
  "language_info": {
   "codemirror_mode": {
    "name": "ipython",
    "version": 3
   },
   "file_extension": ".py",
   "mimetype": "text/x-python",
   "name": "python",
   "nbconvert_exporter": "python",
   "pygments_lexer": "ipython3",
   "version": "3.8.5"
  }
 },
 "nbformat": 4,
 "nbformat_minor": 4
}
